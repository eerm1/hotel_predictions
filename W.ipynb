{
 "cells": [
  {
   "cell_type": "code",
   "execution_count": 24,
   "metadata": {
    "ExecuteTime": {
     "end_time": "2020-05-28T20:05:22.236594Z",
     "start_time": "2020-05-28T20:05:22.219318Z"
    }
   },
   "outputs": [
    {
     "name": "stdout",
     "output_type": "stream",
     "text": [
      "Populating the interactive namespace from numpy and matplotlib\n"
     ]
    }
   ],
   "source": [
    "import pandas as pd\n",
    "import numpy as np\n",
    "import re\n",
    "import scipy as sp\n",
    "\n",
    "# nltk.download()\n",
    "import nltk\n",
    "from nltk.corpus import stopwords\n",
    "from nltk.stem import LancasterStemmer\n",
    "from nltk.stem import PorterStemmer\n",
    "from nltk.stem.snowball import SnowballStemmer\n",
    "from nltk.stem import WordNetLemmatizer\n",
    "import emoji\n",
    "\n",
    "import gensim\n",
    "\n",
    "from gensim.parsing.preprocessing import strip_punctuation\n",
    "from gensim.parsing.preprocessing import strip_short\n",
    "from gensim.parsing.preprocessing import strip_multiple_whitespaces\n",
    "from gensim.parsing.preprocessing import stem_text\n",
    "from gensim.models import KeyedVectors\n",
    "\n",
    "from sklearn.feature_extraction.text import CountVectorizer, TfidfVectorizer, TfidfTransformer\n",
    "from sklearn.preprocessing import StandardScaler\n",
    "from sklearn.linear_model import SGDClassifier\n",
    "from sklearn.linear_model import LogisticRegression\n",
    "from sklearn.svm import LinearSVC\n",
    "from sklearn.naive_bayes import MultinomialNB\n",
    "from sklearn.ensemble import RandomForestClassifier\n",
    "\n",
    "from sklearn.model_selection import train_test_split\n",
    "from sklearn.metrics import accuracy_score, r2_score, mean_squared_error, median_absolute_error, mean_absolute_error \n",
    "\n",
    "import lightgbm as lgb\n",
    "\n",
    "pd.set_option('display.float_format', '{:,.2f}'.format)\n",
    "import warnings\n",
    "warnings.filterwarnings(\"ignore\")\n",
    "%pylab inline"
   ]
  },
  {
   "cell_type": "markdown",
   "metadata": {},
   "source": [
    "# Грузим данные"
   ]
  },
  {
   "cell_type": "code",
   "execution_count": 45,
   "metadata": {
    "ExecuteTime": {
     "end_time": "2020-05-28T20:29:01.590541Z",
     "start_time": "2020-05-28T20:29:01.161687Z"
    }
   },
   "outputs": [],
   "source": [
    "train = pd.read_csv(\"train.csv\")\n",
    "test = pd.read_csv(\"test.csv\")\n",
    "sample_sub = pd.read_csv(\"sample_submission(1).csv\")"
   ]
  },
  {
   "cell_type": "markdown",
   "metadata": {},
   "source": [
    "# Распределение оценок"
   ]
  },
  {
   "cell_type": "code",
   "execution_count": 46,
   "metadata": {
    "ExecuteTime": {
     "end_time": "2020-05-28T20:29:02.295108Z",
     "start_time": "2020-05-28T20:29:01.953660Z"
    }
   },
   "outputs": [
    {
     "data": {
      "text/plain": [
       "<matplotlib.axes._subplots.AxesSubplot at 0x1451df6a0>"
      ]
     },
     "execution_count": 46,
     "metadata": {},
     "output_type": "execute_result"
    },
    {
     "data": {
      "image/png": "[encoded data removed]",
      "text/plain": [
       "<Figure size 432x288 with 1 Axes>"
      ]
     },
     "metadata": {
      "needs_background": "light"
     },
     "output_type": "display_data"
    }
   ],
   "source": [
    "train['score'].hist()"
   ]
  },
  {
   "cell_type": "code",
   "execution_count": 47,
   "metadata": {
    "ExecuteTime": {
     "end_time": "2020-05-28T20:29:02.644841Z",
     "start_time": "2020-05-28T20:29:02.631028Z"
    }
   },
   "outputs": [],
   "source": [
    "stopwords = nltk.corpus.stopwords.words('english')\n",
    "lan = LancasterStemmer()\n",
    "porter = PorterStemmer()\n",
    "snow = SnowballStemmer('english')\n",
    "wordnet_lemmatizer = WordNetLemmatizer()\n",
    "\n",
    "def text_process(text):\n",
    "    \n",
    "    text = re.sub(r\"won\\'t\", \"will not\", text)\n",
    "    text = re.sub(r\"can\\'t\", \"can not\", text)\n",
    "    text = re.sub(r\"n\\'t\", \" not\", text)\n",
    "    text = re.sub(r\"\\'re\", \" are\", text)\n",
    "    text = re.sub(r\"\\'s\", \" is\", text)\n",
    "    text = re.sub(r\"\\'d\", \" would\", text)\n",
    "    text = re.sub(r\"\\'ll\", \" will\", text)\n",
    "    text = re.sub(r\"\\'t\", \" not\", text)\n",
    "    text = re.sub(r\"\\'ve\", \" have\", text)\n",
    "    text = re.sub(r\"\\'m\", \" am\", text)\n",
    "    \n",
    "    text = emoji.demojize(text)\n",
    "    text = text.lower()\n",
    "    text = re.sub(r\"<img.*?>\", '', text) # images\n",
    "    text = re.sub('http://\\S+|https://\\S+', '', text) # links\n",
    "    text = ''.join([i for i in text if not i.isdigit()]) # digits\n",
    "    text = re.sub(r'[0-9]+(?:\\.[0-9]+){3}', '', text) # ip\n",
    "    text = re.sub(\"^\\d+\\s|\\s\\d+\\s|\\s\\d+$\", '', text)\n",
    "    text = re.sub(r\"[^\\w\\d'\\s]+\",'', text) # punct\n",
    "    \n",
    "    text = re.sub(r\"_\", ' ', text)\n",
    "    text = strip_multiple_whitespaces(text)\n",
    "    text = list(text.split())\n",
    "    texts = [word for word in text if word not in stopwords]\n",
    "    \n",
    "    review = []\n",
    "    for text in texts:\n",
    "#         text = porter.stem(text)\n",
    "        text = wordnet_lemmatizer.lemmatize(text, pos=\"v\")\n",
    "        review.append(text)\n",
    "    return ' '.join(review)"
   ]
  },
  {
   "cell_type": "code",
   "execution_count": 48,
   "metadata": {
    "ExecuteTime": {
     "end_time": "2020-05-28T20:29:12.564441Z",
     "start_time": "2020-05-28T20:29:03.685216Z"
    }
   },
   "outputs": [],
   "source": [
    "train['text'] = train['negative'] + ' ' + train['positive']\n",
    "\n",
    "train['total_length'] = train['text'].apply(len)\n",
    "train['capitals'] = train['text'].apply(lambda comment: sum(1 for c in comment if c.isupper()))\n",
    "train['caps_vs_length'] = train.apply(lambda row: float(row['capitals'])/float(row['total_length']), axis=1)\n",
    "train['num_exclamation_marks'] = train['text'].apply(lambda comment: comment.count('!'))\n",
    "train['num_punctuation'] = train['text'].apply(lambda comment: sum(comment.count(w) for w in '.,;:'))\n",
    "train['num_unique_words'] = train['text'].apply(lambda comment: len(set(w for w in comment.split())))\n",
    "\n",
    "test['text'] = test['negative'] + ' ' + test['positive']\n",
    "test['total_length'] = test['text'].apply(len)\n",
    "test['capitals'] = test['text'].apply(lambda comment: sum(1 for c in comment if c.isupper()))\n",
    "test['caps_vs_length'] = test.apply(lambda row: float(row['capitals'])/float(row['total_length']), axis=1)\n",
    "test['num_exclamation_marks'] = test['text'].apply(lambda comment: comment.count('!'))\n",
    "test['num_punctuation'] = test['text'].apply(lambda comment: sum(comment.count(w) for w in '.,;:'))\n",
    "test['num_unique_words'] = test['text'].apply(lambda comment: len(set(w for w in comment.split())))\n",
    "\n",
    "new_features = ['capitals', 'caps_vs_length', 'num_exclamation_marks', 'num_punctuation', 'num_unique_words']\n",
    "\n",
    "scaler = StandardScaler()\n",
    "scaler.fit(np.vstack((train[new_features], test[new_features])))\n",
    "train[new_features] = scaler.transform(train[new_features])\n",
    "test[new_features] = scaler.transform(test[new_features])"
   ]
  },
  {
   "cell_type": "code",
   "execution_count": 49,
   "metadata": {
    "ExecuteTime": {
     "end_time": "2020-05-28T20:31:11.036512Z",
     "start_time": "2020-05-28T20:29:20.847583Z"
    }
   },
   "outputs": [],
   "source": [
    "X = train['text'].map(text_process)\n",
    "XX = test['text'].apply(text_process)\n",
    "\n",
    "vectorizer = TfidfVectorizer(ngram_range=(1, 2), min_df=3, max_df=0.9, strip_accents='unicode', max_features=2500)\n",
    "X_tfidf = vectorizer.fit_transform(X)\n",
    "XX_tfidf = vectorizer.transform(XX)\n",
    "\n",
    "train_data = sp.sparse.hstack((X_tfidf, train[new_features]))\n",
    "test_data = sp.sparse.hstack((XX_tfidf, test[new_features]))\n",
    "\n",
    "target = train['score']"
   ]
  },
  {
   "cell_type": "code",
   "execution_count": 50,
   "metadata": {
    "ExecuteTime": {
     "end_time": "2020-05-28T20:31:16.446231Z",
     "start_time": "2020-05-28T20:31:16.275119Z"
    }
   },
   "outputs": [],
   "source": [
    "X_train, X_test, y_train, y_test = train_test_split(train_data, target, test_size=0.2)\n",
    "train_data = lgb.Dataset(X_train, label=(y_train.values),\n",
    "                                 free_raw_data=False)"
   ]
  },
  {
   "cell_type": "markdown",
   "metadata": {},
   "source": [
    "# train test split"
   ]
  },
  {
   "cell_type": "code",
   "execution_count": 51,
   "metadata": {
    "ExecuteTime": {
     "end_time": "2020-05-28T20:40:27.782986Z",
     "start_time": "2020-05-28T20:31:17.643789Z"
    }
   },
   "outputs": [],
   "source": [
    "params = {\n",
    "            'boosting_type': 'gbdt',\n",
    "            'objective': 'regression',\n",
    "            'metric': {'mae'},\n",
    "            'num_leaves': 100,\n",
    "            'learning_rate': 0.01,\n",
    "            'num_iterations': 1000,\n",
    "            'feature_fraction': 0.8,\n",
    "            'bagging_fraction': 0.8,\n",
    "            'bagging_freq': 5,\n",
    "            'verbose': 0,\n",
    "            'n_jobs': 16,\n",
    "            'max_depth': 100,\n",
    "            'max_bin': 1000\n",
    "        }\n",
    "\n",
    "regr_ncl = lgb.train(\n",
    "    params,\n",
    "    train_data,\n",
    "    num_boost_round=1200,\n",
    "    verbose_eval=10\n",
    ")"
   ]
  },
  {
   "cell_type": "code",
   "execution_count": 52,
   "metadata": {
    "ExecuteTime": {
     "end_time": "2020-05-28T20:41:20.379147Z",
     "start_time": "2020-05-28T20:41:17.257274Z"
    }
   },
   "outputs": [
    {
     "name": "stdout",
     "output_type": "stream",
     "text": [
      "mse 1.3090601673455735\n",
      "median_ae 0.6543552666735866\n",
      "mae 0.8536787686289805\n",
      "real_mean 8.39695\n",
      "model_mean 8.3906521543584\n",
      "real_median 8.8\n",
      "model_median 8.655832775220667\n"
     ]
    }
   ],
   "source": [
    "y_pred = regr_ncl.predict(X_test, num_iteration=regr_ncl.best_iteration)\n",
    "\n",
    "print('mse '+str(mean_squared_error(y_test, y_pred)))\n",
    "print('median_ae '+str(median_absolute_error(y_test, y_pred)))\n",
    "print('mae '+str(mean_absolute_error(y_test, y_pred)))\n",
    "print('real_mean '+str(y_test.mean()))\n",
    "print('model_mean '+str(y_pred.mean()))\n",
    "print('real_median '+str(y_test.median()))\n",
    "print('model_median '+str(np.median(y_pred)))"
   ]
  },
  {
   "cell_type": "markdown",
   "metadata": {},
   "source": [
    "# fasttext"
   ]
  },
  {
   "cell_type": "code",
   "execution_count": 25,
   "metadata": {
    "ExecuteTime": {
     "end_time": "2020-05-28T20:11:21.012628Z",
     "start_time": "2020-05-28T20:05:26.228349Z"
    }
   },
   "outputs": [],
   "source": [
    "model2vec = KeyedVectors.load_word2vec_format('wiki-news-300d-1M.vec')"
   ]
  },
  {
   "cell_type": "code",
   "execution_count": 26,
   "metadata": {
    "ExecuteTime": {
     "end_time": "2020-05-28T20:11:21.281060Z",
     "start_time": "2020-05-28T20:11:21.264680Z"
    }
   },
   "outputs": [],
   "source": [
    "def word_to_vec(text):\n",
    "    review = np.mean([model2vec['good'], model2vec['bad']], axis=0) # если модель не нашла ни одного слова в fasttext\n",
    "    embeddings = [model2vec[word.lower()] for word in text if word.lower() in model2vec.vocab]\n",
    "    if len(embeddings) > 0:\n",
    "        review = np.mean(embeddings, axis=0)\n",
    "    return review"
   ]
  },
  {
   "cell_type": "code",
   "execution_count": 41,
   "metadata": {
    "ExecuteTime": {
     "end_time": "2020-05-28T20:19:58.572807Z",
     "start_time": "2020-05-28T20:19:58.568779Z"
    }
   },
   "outputs": [],
   "source": [
    "X_fasttext = X.apply(word_to_vec)\n",
    "XX_fasttext = XX.apply(word_to_vec)\n",
    "\n",
    "X_fasttext = pd.DataFrame(X_fasttext.values.tolist())\n",
    "XX_fasttext = pd.DataFrame(XX_fasttext.values.tolist())\n",
    "X_fasttext[new_features] = train[new_features]\n",
    "XX_fasttext[new_features] = test[new_features]"
   ]
  },
  {
   "cell_type": "code",
   "execution_count": 42,
   "metadata": {
    "ExecuteTime": {
     "end_time": "2020-05-28T20:20:02.340843Z",
     "start_time": "2020-05-28T20:20:02.011952Z"
    }
   },
   "outputs": [],
   "source": [
    "X_train, X_test, y_train, y_test = train_test_split(X_fasttext, target, test_size=0.2)\n",
    "train_data = lgb.Dataset(X_train, label=(y_train.values), free_raw_data=False)"
   ]
  },
  {
   "cell_type": "code",
   "execution_count": 43,
   "metadata": {
    "ExecuteTime": {
     "end_time": "2020-05-28T20:27:23.211528Z",
     "start_time": "2020-05-28T20:20:03.901836Z"
    }
   },
   "outputs": [],
   "source": [
    "params = {\n",
    "            'boosting_type': 'gbdt',\n",
    "            'objective': 'regression',\n",
    "            'metric': {'mae'},\n",
    "            'num_leaves': 100,\n",
    "            'learning_rate': 0.01,\n",
    "            'num_iterations': 1000,\n",
    "            'feature_fraction': 0.8,\n",
    "            'bagging_fraction': 0.8,\n",
    "            'bagging_freq': 5,\n",
    "            'verbose': 0,\n",
    "            'n_jobs': 16,\n",
    "            'max_depth': 100,\n",
    "            'max_bin': 1000\n",
    "        }\n",
    "\n",
    "regr_ncl = lgb.train(\n",
    "    params,\n",
    "    train_data,\n",
    "    num_boost_round=1200,\n",
    "    verbose_eval=10\n",
    ")"
   ]
  },
  {
   "cell_type": "code",
   "execution_count": 44,
   "metadata": {
    "ExecuteTime": {
     "end_time": "2020-05-28T20:27:42.962432Z",
     "start_time": "2020-05-28T20:27:40.974824Z"
    }
   },
   "outputs": [
    {
     "name": "stdout",
     "output_type": "stream",
     "text": [
      "mse 2.088969465843118\n",
      "median_ae 0.8731071031898843\n",
      "mae 1.1018318627426924\n",
      "real_mean 8.384245\n",
      "model_mean 8.392546520896234\n",
      "real_median 8.8\n",
      "model_median 8.43878808806707\n"
     ]
    }
   ],
   "source": [
    "y_pred = regr_ncl.predict(X_test, num_iteration=regr_ncl.best_iteration)\n",
    "\n",
    "print('mse '+str(mean_squared_error(y_test, y_pred)))\n",
    "print('median_ae '+str(median_absolute_error(y_test, y_pred)))\n",
    "print('mae '+str(mean_absolute_error(y_test, y_pred)))\n",
    "print('real_mean '+str(y_test.mean()))\n",
    "print('model_mean '+str(y_pred.mean()))\n",
    "print('real_median '+str(y_test.median()))\n",
    "print('model_median '+str(np.median(y_pred)))"
   ]
  },
  {
   "cell_type": "markdown",
   "metadata": {},
   "source": [
    "# Предсказания"
   ]
  },
  {
   "cell_type": "code",
   "execution_count": 53,
   "metadata": {
    "ExecuteTime": {
     "end_time": "2020-05-28T20:41:46.470218Z",
     "start_time": "2020-05-28T20:41:43.884304Z"
    }
   },
   "outputs": [],
   "source": [
    "sample_sub['score'] = regr_ncl.predict(test_data)"
   ]
  },
  {
   "cell_type": "code",
   "execution_count": 54,
   "metadata": {
    "ExecuteTime": {
     "end_time": "2020-05-28T20:41:47.491143Z",
     "start_time": "2020-05-28T20:41:47.198567Z"
    }
   },
   "outputs": [
    {
     "data": {
      "text/plain": [
       "<matplotlib.axes._subplots.AxesSubplot at 0x141352518>"
      ]
     },
     "execution_count": 54,
     "metadata": {},
     "output_type": "execute_result"
    },
    {
     "data": {
      "image/png": "[encoded data removed]",
      "text/plain": [
       "<Figure size 432x288 with 1 Axes>"
      ]
     },
     "metadata": {
      "needs_background": "light"
     },
     "output_type": "display_data"
    }
   ],
   "source": [
    "sample_sub['score'].hist()"
   ]
  },
  {
   "cell_type": "code",
   "execution_count": 55,
   "metadata": {
    "ExecuteTime": {
     "end_time": "2020-05-28T20:41:49.360761Z",
     "start_time": "2020-05-28T20:41:49.222443Z"
    }
   },
   "outputs": [],
   "source": [
    "sample_sub.to_csv('ans.csv', index=False)"
   ]
  },
  {
   "cell_type": "code",
   "execution_count": null,
   "metadata": {},
   "outputs": [],
   "source": []
  }
 ],
 "metadata": {
  "hide_input": false,
  "kernelspec": {
   "display_name": "Python 3",
   "language": "python",
   "name": "python3"
  },
  "language_info": {
   "codemirror_mode": {
    "name": "ipython",
    "version": 3
   },
   "file_extension": ".py",
   "mimetype": "text/x-python",
   "name": "python",
   "nbconvert_exporter": "python",
   "pygments_lexer": "ipython3",
   "version": "3.7.4"
  },
  "varInspector": {
   "cols": {
    "lenName": 16,
    "lenType": 16,
    "lenVar": 40
   },
   "kernels_config": {
    "python": {
     "delete_cmd_postfix": "",
     "delete_cmd_prefix": "del ",
     "library": "var_list.py",
     "varRefreshCmd": "print(var_dic_list())"
    },
    "r": {
     "delete_cmd_postfix": ") ",
     "delete_cmd_prefix": "rm(",
     "library": "var_list.r",
     "varRefreshCmd": "cat(var_dic_list()) "
    }
   },
   "types_to_exclude": [
    "module",
    "function",
    "builtin_function_or_method",
    "instance",
    "_Feature"
   ],
   "window_display": false
  }
 },
 "nbformat": 4,
 "nbformat_minor": 2
}
